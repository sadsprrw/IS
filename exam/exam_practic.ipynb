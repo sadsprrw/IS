{
 "cells": [
  {
   "cell_type": "code",
   "execution_count": 55,
   "id": "8851ecee",
   "metadata": {},
   "outputs": [],
   "source": [
    "import pandas as pd\n",
    "import numpy as np"
   ]
  },
  {
   "cell_type": "code",
   "execution_count": 39,
   "id": "0d952934",
   "metadata": {},
   "outputs": [
    {
     "data": {
      "text/html": [
       "<div>\n",
       "<style scoped>\n",
       "    .dataframe tbody tr th:only-of-type {\n",
       "        vertical-align: middle;\n",
       "    }\n",
       "\n",
       "    .dataframe tbody tr th {\n",
       "        vertical-align: top;\n",
       "    }\n",
       "\n",
       "    .dataframe thead th {\n",
       "        text-align: right;\n",
       "    }\n",
       "</style>\n",
       "<table border=\"1\" class=\"dataframe\">\n",
       "  <thead>\n",
       "    <tr style=\"text-align: right;\">\n",
       "      <th></th>\n",
       "      <th>Unnamed: 0</th>\n",
       "      <th>Gender</th>\n",
       "      <th>EthnicGroup</th>\n",
       "      <th>ParentEduc</th>\n",
       "      <th>LunchType</th>\n",
       "      <th>TestPrep</th>\n",
       "      <th>ParentMaritalStatus</th>\n",
       "      <th>PracticeSport</th>\n",
       "      <th>IsFirstChild</th>\n",
       "      <th>NrSiblings</th>\n",
       "      <th>TransportMeans</th>\n",
       "      <th>WklyStudyHours</th>\n",
       "      <th>MathScore</th>\n",
       "      <th>ReadingScore</th>\n",
       "      <th>WritingScore</th>\n",
       "    </tr>\n",
       "  </thead>\n",
       "  <tbody>\n",
       "    <tr>\n",
       "      <th>0</th>\n",
       "      <td>0</td>\n",
       "      <td>female</td>\n",
       "      <td>NaN</td>\n",
       "      <td>bachelor's degree</td>\n",
       "      <td>standard</td>\n",
       "      <td>none</td>\n",
       "      <td>married</td>\n",
       "      <td>regularly</td>\n",
       "      <td>yes</td>\n",
       "      <td>3.0</td>\n",
       "      <td>school_bus</td>\n",
       "      <td>&lt; 5</td>\n",
       "      <td>71</td>\n",
       "      <td>71</td>\n",
       "      <td>74</td>\n",
       "    </tr>\n",
       "    <tr>\n",
       "      <th>1</th>\n",
       "      <td>1</td>\n",
       "      <td>female</td>\n",
       "      <td>group C</td>\n",
       "      <td>some college</td>\n",
       "      <td>standard</td>\n",
       "      <td>NaN</td>\n",
       "      <td>married</td>\n",
       "      <td>sometimes</td>\n",
       "      <td>yes</td>\n",
       "      <td>0.0</td>\n",
       "      <td>NaN</td>\n",
       "      <td>5 - 10</td>\n",
       "      <td>69</td>\n",
       "      <td>90</td>\n",
       "      <td>88</td>\n",
       "    </tr>\n",
       "    <tr>\n",
       "      <th>2</th>\n",
       "      <td>2</td>\n",
       "      <td>female</td>\n",
       "      <td>group B</td>\n",
       "      <td>master's degree</td>\n",
       "      <td>standard</td>\n",
       "      <td>none</td>\n",
       "      <td>single</td>\n",
       "      <td>sometimes</td>\n",
       "      <td>yes</td>\n",
       "      <td>4.0</td>\n",
       "      <td>school_bus</td>\n",
       "      <td>&lt; 5</td>\n",
       "      <td>87</td>\n",
       "      <td>93</td>\n",
       "      <td>91</td>\n",
       "    </tr>\n",
       "    <tr>\n",
       "      <th>3</th>\n",
       "      <td>3</td>\n",
       "      <td>male</td>\n",
       "      <td>group A</td>\n",
       "      <td>associate's degree</td>\n",
       "      <td>free/reduced</td>\n",
       "      <td>none</td>\n",
       "      <td>married</td>\n",
       "      <td>never</td>\n",
       "      <td>no</td>\n",
       "      <td>1.0</td>\n",
       "      <td>NaN</td>\n",
       "      <td>5 - 10</td>\n",
       "      <td>45</td>\n",
       "      <td>56</td>\n",
       "      <td>42</td>\n",
       "    </tr>\n",
       "    <tr>\n",
       "      <th>4</th>\n",
       "      <td>4</td>\n",
       "      <td>male</td>\n",
       "      <td>group C</td>\n",
       "      <td>some college</td>\n",
       "      <td>standard</td>\n",
       "      <td>none</td>\n",
       "      <td>married</td>\n",
       "      <td>sometimes</td>\n",
       "      <td>yes</td>\n",
       "      <td>0.0</td>\n",
       "      <td>school_bus</td>\n",
       "      <td>5 - 10</td>\n",
       "      <td>76</td>\n",
       "      <td>78</td>\n",
       "      <td>75</td>\n",
       "    </tr>\n",
       "  </tbody>\n",
       "</table>\n",
       "</div>"
      ],
      "text/plain": [
       "   Unnamed: 0  Gender EthnicGroup          ParentEduc     LunchType TestPrep   \n",
       "0           0  female         NaN   bachelor's degree      standard     none  \\\n",
       "1           1  female     group C        some college      standard      NaN   \n",
       "2           2  female     group B     master's degree      standard     none   \n",
       "3           3    male     group A  associate's degree  free/reduced     none   \n",
       "4           4    male     group C        some college      standard     none   \n",
       "\n",
       "  ParentMaritalStatus PracticeSport IsFirstChild  NrSiblings TransportMeans   \n",
       "0             married     regularly          yes         3.0     school_bus  \\\n",
       "1             married     sometimes          yes         0.0            NaN   \n",
       "2              single     sometimes          yes         4.0     school_bus   \n",
       "3             married         never           no         1.0            NaN   \n",
       "4             married     sometimes          yes         0.0     school_bus   \n",
       "\n",
       "  WklyStudyHours  MathScore  ReadingScore  WritingScore  \n",
       "0            < 5         71            71            74  \n",
       "1         5 - 10         69            90            88  \n",
       "2            < 5         87            93            91  \n",
       "3         5 - 10         45            56            42  \n",
       "4         5 - 10         76            78            75  "
      ]
     },
     "execution_count": 39,
     "metadata": {},
     "output_type": "execute_result"
    }
   ],
   "source": [
    "df = pd.read_csv('Expanded_data_with_more_features.csv')\n",
    "df.head()"
   ]
  },
  {
   "cell_type": "code",
   "execution_count": 40,
   "id": "95b5fedc",
   "metadata": {},
   "outputs": [
    {
     "name": "stdout",
     "output_type": "stream",
     "text": [
      "Студентів = 15217, Студенток = 15424\n"
     ]
    }
   ],
   "source": [
    "# 1 Скільки студентів і студенток у наборі даних?\n",
    "fm = df.query('Gender == \"female\"')['Gender'].count()\n",
    "ml = df.query('Gender == \"male\"')['Gender'].count()\n",
    "print(f\"Студентів = {ml}, Студенток = {fm}\")\n"
   ]
  },
  {
   "cell_type": "code",
   "execution_count": 41,
   "id": "e8f97200",
   "metadata": {},
   "outputs": [
    {
     "data": {
      "text/plain": [
       "49.6622172905584"
      ]
     },
     "execution_count": 41,
     "metadata": {},
     "output_type": "execute_result"
    }
   ],
   "source": [
    "# 2 Який відсоток студентів чоловічої статі в наборі даних?\n",
    "male = df.query('Gender == \"male\"')['Gender'].count()\n",
    "female = df.query('Gender == \"female\"')['Gender'].count()\n",
    "male / (male + female) * 100"
   ]
  },
  {
   "cell_type": "code",
   "execution_count": 42,
   "id": "dfd2a662",
   "metadata": {},
   "outputs": [
    {
     "data": {
      "text/plain": [
       "50.337782709441605"
      ]
     },
     "execution_count": 42,
     "metadata": {},
     "output_type": "execute_result"
    }
   ],
   "source": [
    "# 3 Який відсоток студенток у наборі даних?\n",
    "male = df.query('Gender == \"male\"')['Gender'].count()\n",
    "female = df.query('Gender == \"female\"')['Gender'].count()\n",
    "female / (male + female) * 100"
   ]
  },
  {
   "cell_type": "code",
   "execution_count": 43,
   "id": "df8f6cf4",
   "metadata": {},
   "outputs": [
    {
     "data": {
      "text/plain": [
       "EthnicGroup\n",
       "group E    75.298936\n",
       "Name: MathScore, dtype: float64"
      ]
     },
     "execution_count": 43,
     "metadata": {},
     "output_type": "execute_result"
    }
   ],
   "source": [
    "# 4 Яка етнічна група має найвищий середній бал з математики? \n",
    "df.groupby('EthnicGroup')[\"MathScore\"].mean().sort_values(ascending=False)[:1]"
   ]
  },
  {
   "cell_type": "code",
   "execution_count": 44,
   "id": "fc9a0b81",
   "metadata": {},
   "outputs": [
    {
     "data": {
      "text/plain": [
       "EthnicGroup\n",
       "group E    74.251423\n",
       "Name: ReadingScore, dtype: float64"
      ]
     },
     "execution_count": 44,
     "metadata": {},
     "output_type": "execute_result"
    }
   ],
   "source": [
    "# 5 Яка етнічна група має найвищий середній бал читання?\n",
    "df.groupby('EthnicGroup')[\"ReadingScore\"].mean().sort_values(ascending=False)[:1]"
   ]
  },
  {
   "cell_type": "code",
   "execution_count": 45,
   "id": "9b323563",
   "metadata": {},
   "outputs": [
    {
     "data": {
      "text/plain": [
       "EthnicGroup\n",
       "group E    72.67706\n",
       "Name: WritingScore, dtype: float64"
      ]
     },
     "execution_count": 45,
     "metadata": {},
     "output_type": "execute_result"
    }
   ],
   "source": [
    "# 6 Яка етнічна група має найвищий середній бал з письма?\n",
    "df.groupby('EthnicGroup')[\"WritingScore\"].mean().sort_values(ascending=False)[:1]"
   ]
  },
  {
   "cell_type": "code",
   "execution_count": 46,
   "id": "bdde49f3",
   "metadata": {},
   "outputs": [
    {
     "data": {
      "text/plain": [
       "69.5466599698644"
      ]
     },
     "execution_count": 46,
     "metadata": {},
     "output_type": "execute_result"
    }
   ],
   "source": [
    "# 7 Який середній бал з математики для студентів, які закінчили курс підготовки до тесту?\n",
    "df.query(\"TestPrep == 'completed'\")[\"MathScore\"].mean()"
   ]
  },
  {
   "cell_type": "code",
   "execution_count": 47,
   "id": "cb1a21fe",
   "metadata": {},
   "outputs": [
    {
     "data": {
      "text/plain": [
       "73.73299849321948"
      ]
     },
     "execution_count": 47,
     "metadata": {},
     "output_type": "execute_result"
    }
   ],
   "source": [
    "# 8. Який середній бал з читання для студентів, які пройшли курс підготовки до тесту?\n",
    "df.query(\"TestPrep == 'completed'\")[\"ReadingScore\"].mean()"
   ]
  },
  {
   "cell_type": "code",
   "execution_count": 48,
   "id": "472532d0",
   "metadata": {},
   "outputs": [
    {
     "data": {
      "text/plain": [
       "72.66097438473129"
      ]
     },
     "execution_count": 48,
     "metadata": {},
     "output_type": "execute_result"
    }
   ],
   "source": [
    "# 9 Який середній бал для студентів, які закінчили курс підготовки до тесту?\n",
    "df['MeanTestsScore'] = (df['MathScore'] + df['ReadingScore'] + df['WritingScore'])/3\n",
    "df.query(\"TestPrep == 'completed'\")[\"MeanTestsScore\"].mean()"
   ]
  },
  {
   "cell_type": "code",
   "execution_count": 49,
   "id": "0d75c926",
   "metadata": {},
   "outputs": [
    {
     "data": {
      "text/plain": [
       "16844"
      ]
     },
     "execution_count": 49,
     "metadata": {},
     "output_type": "execute_result"
    }
   ],
   "source": [
    "# 10 Скільки студентів мають одружених батьків?\n",
    "df.query(\"ParentMaritalStatus == 'married'\").count()['ParentMaritalStatus']"
   ]
  },
  {
   "cell_type": "code",
   "execution_count": 50,
   "id": "fbcf637f",
   "metadata": {},
   "outputs": [
    {
     "data": {
      "text/plain": [
       "7097"
      ]
     },
     "execution_count": 50,
     "metadata": {},
     "output_type": "execute_result"
    }
   ],
   "source": [
    "# 11 Скільки студентів мають батьків-одинаків?\n",
    "df.query(\"ParentMaritalStatus == 'single'\").count()['ParentMaritalStatus']"
   ]
  },
  {
   "cell_type": "code",
   "execution_count": 51,
   "id": "f257a2c9",
   "metadata": {},
   "outputs": [
    {
     "data": {
      "text/plain": [
       "True"
      ]
     },
     "execution_count": 51,
     "metadata": {},
     "output_type": "execute_result"
    }
   ],
   "source": [
    "# 12 Чи студенти, які регулярно займаються спортом, мають вищі середні результати з математики, ніж ті, хто ніколи не займається спортом?\n",
    "reg = df.query(\"PracticeSport == 'regularly'\")[\"MathScore\"].mean()\n",
    "nev = df.query(\"PracticeSport == 'never'\")[\"MathScore\"].mean()\n",
    "reg > nev"
   ]
  },
  {
   "cell_type": "code",
   "execution_count": 52,
   "id": "6f122676",
   "metadata": {},
   "outputs": [
    {
     "data": {
      "text/plain": [
       "True"
      ]
     },
     "execution_count": 52,
     "metadata": {},
     "output_type": "execute_result"
    }
   ],
   "source": [
    "# 13 Чи студенти, які регулярно займаються спортом, мають вищі середні результати читання, ніж ті, хто ніколи не займається спортом?\n",
    "reg = df.query(\"PracticeSport == 'regularly'\")[\"ReadingScore\"].mean()\n",
    "nev = df.query(\"PracticeSport == 'never'\")[\"ReadingScore\"].mean()\n",
    "reg > nev"
   ]
  },
  {
   "cell_type": "code",
   "execution_count": 53,
   "id": "2c52373c",
   "metadata": {},
   "outputs": [
    {
     "data": {
      "text/plain": [
       "16145"
      ]
     },
     "execution_count": 53,
     "metadata": {},
     "output_type": "execute_result"
    }
   ],
   "source": [
    "# 14 Скільки учнів користується шкільним автобусом, щоб дістатися до школи?\n",
    "df.query('TransportMeans == \"school_bus\"')['TransportMeans'].count() "
   ]
  },
  {
   "cell_type": "code",
   "execution_count": 54,
   "id": "c71fbd2f",
   "metadata": {},
   "outputs": [
    {
     "data": {
      "text/plain": [
       "11362"
      ]
     },
     "execution_count": 54,
     "metadata": {},
     "output_type": "execute_result"
    }
   ],
   "source": [
    "# 15 Скільки учнів користується приватним транспортом, щоб дістатися до школи?\n",
    "df.query('TransportMeans == \"private\"')['TransportMeans'].count()"
   ]
  },
  {
   "cell_type": "code",
   "execution_count": 56,
   "id": "afbd486a",
   "metadata": {},
   "outputs": [],
   "source": [
    "from sklearn.preprocessing import StandardScaler\n",
    "import sklearn as sk\n",
    "import matplotlib.pyplot as plt\n",
    "\n",
    "from sklearn.linear_model import LinearRegression, LogisticRegression\n",
    "from sklearn.model_selection import train_test_split\n",
    "from sklearn.pipeline import Pipeline\n",
    "from sklearn.preprocessing import StandardScaler, OneHotEncoder\n",
    "from sklearn.compose import ColumnTransformer\n",
    "from sklearn.metrics import mean_squared_error\n",
    "from sklearn.impute import SimpleImputer\n",
    "from sklearn.model_selection import cross_val_score\n",
    "from sklearn.model_selection import ShuffleSplit"
   ]
  },
  {
   "cell_type": "code",
   "execution_count": 57,
   "id": "cdfeae60",
   "metadata": {},
   "outputs": [],
   "source": [
    "cols = [\n",
    "    'Gender', \n",
    "    'EthnicGroup', \n",
    "    'ParentEduc', \n",
    "    'LunchType', \n",
    "    'ParentMaritalStatus', \n",
    "    'PracticeSport', \n",
    "    'IsFirstChild', \n",
    "    'NrSiblings',       \n",
    "    'TransportMeans', \n",
    "    'WklyStudyHours', \n",
    "    'MathScore', \n",
    "    'ReadingScore', \n",
    "    'WritingScore'\n",
    "]"
   ]
  },
  {
   "cell_type": "code",
   "execution_count": 58,
   "id": "4cb98da3",
   "metadata": {},
   "outputs": [],
   "source": [
    "df['IsTestCompleted'] = df['TestPrep'] == 'completed'"
   ]
  },
  {
   "cell_type": "code",
   "execution_count": 59,
   "id": "7973a33c",
   "metadata": {},
   "outputs": [
    {
     "data": {
      "text/html": [
       "<div>\n",
       "<style scoped>\n",
       "    .dataframe tbody tr th:only-of-type {\n",
       "        vertical-align: middle;\n",
       "    }\n",
       "\n",
       "    .dataframe tbody tr th {\n",
       "        vertical-align: top;\n",
       "    }\n",
       "\n",
       "    .dataframe thead th {\n",
       "        text-align: right;\n",
       "    }\n",
       "</style>\n",
       "<table border=\"1\" class=\"dataframe\">\n",
       "  <thead>\n",
       "    <tr style=\"text-align: right;\">\n",
       "      <th></th>\n",
       "      <th>Gender</th>\n",
       "      <th>EthnicGroup</th>\n",
       "      <th>ParentEduc</th>\n",
       "      <th>LunchType</th>\n",
       "      <th>ParentMaritalStatus</th>\n",
       "      <th>PracticeSport</th>\n",
       "      <th>IsFirstChild</th>\n",
       "      <th>NrSiblings</th>\n",
       "      <th>TransportMeans</th>\n",
       "      <th>WklyStudyHours</th>\n",
       "      <th>MathScore</th>\n",
       "      <th>ReadingScore</th>\n",
       "      <th>WritingScore</th>\n",
       "      <th>IsTestCompleted</th>\n",
       "    </tr>\n",
       "  </thead>\n",
       "  <tbody>\n",
       "    <tr>\n",
       "      <th>0</th>\n",
       "      <td>female</td>\n",
       "      <td>NaN</td>\n",
       "      <td>bachelor's degree</td>\n",
       "      <td>standard</td>\n",
       "      <td>married</td>\n",
       "      <td>regularly</td>\n",
       "      <td>yes</td>\n",
       "      <td>3.0</td>\n",
       "      <td>school_bus</td>\n",
       "      <td>&lt; 5</td>\n",
       "      <td>71</td>\n",
       "      <td>71</td>\n",
       "      <td>74</td>\n",
       "      <td>False</td>\n",
       "    </tr>\n",
       "    <tr>\n",
       "      <th>1</th>\n",
       "      <td>female</td>\n",
       "      <td>group C</td>\n",
       "      <td>some college</td>\n",
       "      <td>standard</td>\n",
       "      <td>married</td>\n",
       "      <td>sometimes</td>\n",
       "      <td>yes</td>\n",
       "      <td>0.0</td>\n",
       "      <td>NaN</td>\n",
       "      <td>5 - 10</td>\n",
       "      <td>69</td>\n",
       "      <td>90</td>\n",
       "      <td>88</td>\n",
       "      <td>False</td>\n",
       "    </tr>\n",
       "    <tr>\n",
       "      <th>2</th>\n",
       "      <td>female</td>\n",
       "      <td>group B</td>\n",
       "      <td>master's degree</td>\n",
       "      <td>standard</td>\n",
       "      <td>single</td>\n",
       "      <td>sometimes</td>\n",
       "      <td>yes</td>\n",
       "      <td>4.0</td>\n",
       "      <td>school_bus</td>\n",
       "      <td>&lt; 5</td>\n",
       "      <td>87</td>\n",
       "      <td>93</td>\n",
       "      <td>91</td>\n",
       "      <td>False</td>\n",
       "    </tr>\n",
       "    <tr>\n",
       "      <th>3</th>\n",
       "      <td>male</td>\n",
       "      <td>group A</td>\n",
       "      <td>associate's degree</td>\n",
       "      <td>free/reduced</td>\n",
       "      <td>married</td>\n",
       "      <td>never</td>\n",
       "      <td>no</td>\n",
       "      <td>1.0</td>\n",
       "      <td>NaN</td>\n",
       "      <td>5 - 10</td>\n",
       "      <td>45</td>\n",
       "      <td>56</td>\n",
       "      <td>42</td>\n",
       "      <td>False</td>\n",
       "    </tr>\n",
       "    <tr>\n",
       "      <th>4</th>\n",
       "      <td>male</td>\n",
       "      <td>group C</td>\n",
       "      <td>some college</td>\n",
       "      <td>standard</td>\n",
       "      <td>married</td>\n",
       "      <td>sometimes</td>\n",
       "      <td>yes</td>\n",
       "      <td>0.0</td>\n",
       "      <td>school_bus</td>\n",
       "      <td>5 - 10</td>\n",
       "      <td>76</td>\n",
       "      <td>78</td>\n",
       "      <td>75</td>\n",
       "      <td>False</td>\n",
       "    </tr>\n",
       "    <tr>\n",
       "      <th>...</th>\n",
       "      <td>...</td>\n",
       "      <td>...</td>\n",
       "      <td>...</td>\n",
       "      <td>...</td>\n",
       "      <td>...</td>\n",
       "      <td>...</td>\n",
       "      <td>...</td>\n",
       "      <td>...</td>\n",
       "      <td>...</td>\n",
       "      <td>...</td>\n",
       "      <td>...</td>\n",
       "      <td>...</td>\n",
       "      <td>...</td>\n",
       "      <td>...</td>\n",
       "    </tr>\n",
       "    <tr>\n",
       "      <th>30636</th>\n",
       "      <td>female</td>\n",
       "      <td>group D</td>\n",
       "      <td>high school</td>\n",
       "      <td>standard</td>\n",
       "      <td>single</td>\n",
       "      <td>sometimes</td>\n",
       "      <td>no</td>\n",
       "      <td>2.0</td>\n",
       "      <td>school_bus</td>\n",
       "      <td>5 - 10</td>\n",
       "      <td>59</td>\n",
       "      <td>61</td>\n",
       "      <td>65</td>\n",
       "      <td>False</td>\n",
       "    </tr>\n",
       "    <tr>\n",
       "      <th>30637</th>\n",
       "      <td>male</td>\n",
       "      <td>group E</td>\n",
       "      <td>high school</td>\n",
       "      <td>standard</td>\n",
       "      <td>single</td>\n",
       "      <td>regularly</td>\n",
       "      <td>no</td>\n",
       "      <td>1.0</td>\n",
       "      <td>private</td>\n",
       "      <td>5 - 10</td>\n",
       "      <td>58</td>\n",
       "      <td>53</td>\n",
       "      <td>51</td>\n",
       "      <td>False</td>\n",
       "    </tr>\n",
       "    <tr>\n",
       "      <th>30638</th>\n",
       "      <td>female</td>\n",
       "      <td>NaN</td>\n",
       "      <td>high school</td>\n",
       "      <td>free/reduced</td>\n",
       "      <td>married</td>\n",
       "      <td>sometimes</td>\n",
       "      <td>no</td>\n",
       "      <td>1.0</td>\n",
       "      <td>private</td>\n",
       "      <td>5 - 10</td>\n",
       "      <td>61</td>\n",
       "      <td>70</td>\n",
       "      <td>67</td>\n",
       "      <td>True</td>\n",
       "    </tr>\n",
       "    <tr>\n",
       "      <th>30639</th>\n",
       "      <td>female</td>\n",
       "      <td>group D</td>\n",
       "      <td>associate's degree</td>\n",
       "      <td>standard</td>\n",
       "      <td>married</td>\n",
       "      <td>regularly</td>\n",
       "      <td>no</td>\n",
       "      <td>3.0</td>\n",
       "      <td>school_bus</td>\n",
       "      <td>5 - 10</td>\n",
       "      <td>82</td>\n",
       "      <td>90</td>\n",
       "      <td>93</td>\n",
       "      <td>True</td>\n",
       "    </tr>\n",
       "    <tr>\n",
       "      <th>30640</th>\n",
       "      <td>male</td>\n",
       "      <td>group B</td>\n",
       "      <td>some college</td>\n",
       "      <td>standard</td>\n",
       "      <td>married</td>\n",
       "      <td>never</td>\n",
       "      <td>no</td>\n",
       "      <td>1.0</td>\n",
       "      <td>school_bus</td>\n",
       "      <td>5 - 10</td>\n",
       "      <td>64</td>\n",
       "      <td>60</td>\n",
       "      <td>58</td>\n",
       "      <td>False</td>\n",
       "    </tr>\n",
       "  </tbody>\n",
       "</table>\n",
       "<p>30641 rows × 14 columns</p>\n",
       "</div>"
      ],
      "text/plain": [
       "       Gender EthnicGroup          ParentEduc     LunchType   \n",
       "0      female         NaN   bachelor's degree      standard  \\\n",
       "1      female     group C        some college      standard   \n",
       "2      female     group B     master's degree      standard   \n",
       "3        male     group A  associate's degree  free/reduced   \n",
       "4        male     group C        some college      standard   \n",
       "...       ...         ...                 ...           ...   \n",
       "30636  female     group D         high school      standard   \n",
       "30637    male     group E         high school      standard   \n",
       "30638  female         NaN         high school  free/reduced   \n",
       "30639  female     group D  associate's degree      standard   \n",
       "30640    male     group B        some college      standard   \n",
       "\n",
       "      ParentMaritalStatus PracticeSport IsFirstChild  NrSiblings   \n",
       "0                 married     regularly          yes         3.0  \\\n",
       "1                 married     sometimes          yes         0.0   \n",
       "2                  single     sometimes          yes         4.0   \n",
       "3                 married         never           no         1.0   \n",
       "4                 married     sometimes          yes         0.0   \n",
       "...                   ...           ...          ...         ...   \n",
       "30636              single     sometimes           no         2.0   \n",
       "30637              single     regularly           no         1.0   \n",
       "30638             married     sometimes           no         1.0   \n",
       "30639             married     regularly           no         3.0   \n",
       "30640             married         never           no         1.0   \n",
       "\n",
       "      TransportMeans WklyStudyHours  MathScore  ReadingScore  WritingScore   \n",
       "0         school_bus            < 5         71            71            74  \\\n",
       "1                NaN         5 - 10         69            90            88   \n",
       "2         school_bus            < 5         87            93            91   \n",
       "3                NaN         5 - 10         45            56            42   \n",
       "4         school_bus         5 - 10         76            78            75   \n",
       "...              ...            ...        ...           ...           ...   \n",
       "30636     school_bus         5 - 10         59            61            65   \n",
       "30637        private         5 - 10         58            53            51   \n",
       "30638        private         5 - 10         61            70            67   \n",
       "30639     school_bus         5 - 10         82            90            93   \n",
       "30640     school_bus         5 - 10         64            60            58   \n",
       "\n",
       "       IsTestCompleted  \n",
       "0                False  \n",
       "1                False  \n",
       "2                False  \n",
       "3                False  \n",
       "4                False  \n",
       "...                ...  \n",
       "30636            False  \n",
       "30637            False  \n",
       "30638             True  \n",
       "30639             True  \n",
       "30640            False  \n",
       "\n",
       "[30641 rows x 14 columns]"
      ]
     },
     "execution_count": 59,
     "metadata": {},
     "output_type": "execute_result"
    }
   ],
   "source": [
    "df[cols + ['IsTestCompleted']]"
   ]
  },
  {
   "cell_type": "code",
   "execution_count": 63,
   "id": "e1c3810b",
   "metadata": {},
   "outputs": [],
   "source": [
    "num_features = [\n",
    "    'MathScore', \n",
    "    'ReadingScore', \n",
    "    'WritingScore',\n",
    "    'NrSiblings'\n",
    "]\n",
    "cat_features = [\n",
    "    'Gender', \n",
    "    'EthnicGroup', \n",
    "    'ParentEduc', \n",
    "    'LunchType', \n",
    "    'ParentMaritalStatus', \n",
    "    'PracticeSport',\n",
    "    'IsFirstChild',\n",
    "    'TransportMeans',\n",
    "    'WklyStudyHours'\n",
    "]"
   ]
  },
  {
   "cell_type": "code",
   "execution_count": 64,
   "id": "1f13e41d",
   "metadata": {},
   "outputs": [],
   "source": [
    "num_pipeline = Pipeline([\n",
    "    ('imputer', SimpleImputer(strategy=\"mean\")),\n",
    "    ('scaler', StandardScaler()),\n",
    "])\n",
    "\n",
    "pipeline = ColumnTransformer([\n",
    "    (\"num\", num_pipeline, num_features),\n",
    "    (\"cat\", OneHotEncoder(), cat_features)\n",
    "])\n",
    "\n",
    "\n",
    "\n",
    "X = pipeline.fit_transform(df)\n",
    "Y = df['IsTestCompleted'].values"
   ]
  },
  {
   "cell_type": "code",
   "execution_count": 65,
   "id": "e9e18814",
   "metadata": {},
   "outputs": [
    {
     "data": {
      "text/plain": [
       "0.7495888265239525"
      ]
     },
     "execution_count": 65,
     "metadata": {},
     "output_type": "execute_result"
    }
   ],
   "source": [
    "model = LogisticRegression()\n",
    "cv = ShuffleSplit(n_splits=15, test_size=0.25, random_state=0)\n",
    "cross_val_score(LogisticRegression(), X, Y, cv=cv).mean()"
   ]
  },
  {
   "cell_type": "code",
   "execution_count": null,
   "id": "4fe03a25",
   "metadata": {},
   "outputs": [],
   "source": []
  }
 ],
 "metadata": {
  "kernelspec": {
   "display_name": "Python 3 (ipykernel)",
   "language": "python",
   "name": "python3"
  },
  "language_info": {
   "codemirror_mode": {
    "name": "ipython",
    "version": 3
   },
   "file_extension": ".py",
   "mimetype": "text/x-python",
   "name": "python",
   "nbconvert_exporter": "python",
   "pygments_lexer": "ipython3",
   "version": "3.9.16"
  }
 },
 "nbformat": 4,
 "nbformat_minor": 5
}
